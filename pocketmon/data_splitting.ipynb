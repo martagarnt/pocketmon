{
 "cells": [
  {
   "cell_type": "markdown",
   "id": "889e421d",
   "metadata": {},
   "source": [
    "# **Reading the dataset**"
   ]
  },
  {
   "cell_type": "code",
   "execution_count": 7,
   "id": "820ced9a",
   "metadata": {},
   "outputs": [
    {
     "name": "stdout",
     "output_type": "stream",
     "text": [
      "Check GPU runtime type... \n",
      "Change Runtype Type in top menu for GPU acceleration\n",
      " \"Runtime\" -> \"Change Runtime Type\" -> \"GPU\"\n",
      "Found 5316 protein-pocket pairs.\n",
      "Input shape: torch.Size([4, 32, 32, 32])\n",
      "Label shape: torch.Size([1, 32, 32, 32])\n",
      "Pocket voxels in label: 367.0\n",
      "dataset loaded: <class '__main__.VoxelNPYDataset'>\n"
     ]
    }
   ],
   "source": [
    "%run data_preprocessing.ipynb"
   ]
  },
  {
   "cell_type": "code",
   "execution_count": null,
   "id": "3e81cab1",
   "metadata": {},
   "outputs": [],
   "source": [
    "from torch.utils.data import random_split"
   ]
  },
  {
   "cell_type": "markdown",
   "id": "0e291b94",
   "metadata": {},
   "source": [
    "# **Splitting our data for training**\n"
   ]
  },
  {
   "cell_type": "markdown",
   "id": "a163e548",
   "metadata": {},
   "source": [
    "In the data splitting we aimed for a Train/Validation/Test split for the sake of computational efficiency:\n",
    "\n",
    "    - 80 / 10 / 10 dataset split"
   ]
  },
  {
   "cell_type": "code",
   "execution_count": 17,
   "id": "0363d8a7",
   "metadata": {},
   "outputs": [
    {
     "name": "stdout",
     "output_type": "stream",
     "text": [
      "5305\n"
     ]
    }
   ],
   "source": [
    "\n",
    "num_total = len(dataset)\n",
    "print(num_total)\n"
   ]
  },
  {
   "cell_type": "code",
   "execution_count": null,
   "id": "0d42d0a5",
   "metadata": {},
   "outputs": [],
   "source": [
    "num_test = int(0.10 * num_total)\n",
    "num_val = int(0.10 * num_total)\n",
    "num_train = num_total - num_val - num_test\n",
    "\n",
    "train_set, val_set, test_set = random_split(\n",
    "    dataset,\n",
    "    [num_train, num_val, num_test],\n",
    "    generator=torch.Generator().manual_seed(42)\n",
    ")"
   ]
  }
 ],
 "metadata": {
  "kernelspec": {
   "display_name": "bioenv",
   "language": "python",
   "name": "python3"
  },
  "language_info": {
   "codemirror_mode": {
    "name": "ipython",
    "version": 3
   },
   "file_extension": ".py",
   "mimetype": "text/x-python",
   "name": "python",
   "nbconvert_exporter": "python",
   "pygments_lexer": "ipython3",
   "version": "3.10.16"
  }
 },
 "nbformat": 4,
 "nbformat_minor": 5
}
