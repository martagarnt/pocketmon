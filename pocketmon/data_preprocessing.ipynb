{
 "cells": [
  {
   "cell_type": "markdown",
   "id": "1ff87cc6",
   "metadata": {},
   "source": [
    "\n",
    "# Convolutional neural network for pocket prediction\n",
    "\n",
    "In this notebook, we will implement a convolutional neural network using Keras and Tensorflow. \n",
    "\n"
   ]
  },
  {
   "cell_type": "markdown",
   "id": "c0c3d0a0",
   "metadata": {},
   "source": [
    "Install the dependencies by running the following cell:\n",
    "\n"
   ]
  },
  {
   "cell_type": "code",
   "execution_count": null,
   "id": "aafb013f",
   "metadata": {},
   "outputs": [
    {
     "name": "stdout",
     "output_type": "stream",
     "text": [
      "Looking in indexes: https://pypi.org/simple, https://pypi.ngc.nvidia.com\n",
      "Requirement already satisfied: scikit-learn in /home/ivon/miniconda3/envs/bioenv/lib/python3.10/site-packages (1.6.1)\n",
      "Requirement already satisfied: matplotlib in /home/ivon/miniconda3/envs/bioenv/lib/python3.10/site-packages (3.10.1)\n",
      "Requirement already satisfied: tensorflow in /home/ivon/miniconda3/envs/bioenv/lib/python3.10/site-packages (2.15.0)\n",
      "Requirement already satisfied: numpy in /home/ivon/miniconda3/envs/bioenv/lib/python3.10/site-packages (1.24.4)\n",
      "Requirement already satisfied: gdown in /home/ivon/miniconda3/envs/bioenv/lib/python3.10/site-packages (5.2.0)\n",
      "Requirement already satisfied: scipy>=1.6.0 in /home/ivon/miniconda3/envs/bioenv/lib/python3.10/site-packages (from scikit-learn) (1.15.2)\n",
      "Requirement already satisfied: joblib>=1.2.0 in /home/ivon/miniconda3/envs/bioenv/lib/python3.10/site-packages (from scikit-learn) (1.4.2)\n",
      "Requirement already satisfied: threadpoolctl>=3.1.0 in /home/ivon/miniconda3/envs/bioenv/lib/python3.10/site-packages (from scikit-learn) (3.6.0)\n",
      "Requirement already satisfied: contourpy>=1.0.1 in /home/ivon/miniconda3/envs/bioenv/lib/python3.10/site-packages (from matplotlib) (1.3.1)\n",
      "Requirement already satisfied: cycler>=0.10 in /home/ivon/miniconda3/envs/bioenv/lib/python3.10/site-packages (from matplotlib) (0.12.1)\n",
      "Requirement already satisfied: fonttools>=4.22.0 in /home/ivon/miniconda3/envs/bioenv/lib/python3.10/site-packages (from matplotlib) (4.57.0)\n",
      "Requirement already satisfied: kiwisolver>=1.3.1 in /home/ivon/miniconda3/envs/bioenv/lib/python3.10/site-packages (from matplotlib) (1.4.7)\n",
      "Requirement already satisfied: packaging>=20.0 in /home/ivon/miniconda3/envs/bioenv/lib/python3.10/site-packages (from matplotlib) (24.2)\n",
      "Requirement already satisfied: pillow>=8 in /home/ivon/miniconda3/envs/bioenv/lib/python3.10/site-packages (from matplotlib) (11.1.0)\n",
      "Requirement already satisfied: pyparsing>=2.3.1 in /home/ivon/miniconda3/envs/bioenv/lib/python3.10/site-packages (from matplotlib) (3.2.3)\n",
      "Requirement already satisfied: python-dateutil>=2.7 in /home/ivon/miniconda3/envs/bioenv/lib/python3.10/site-packages (from matplotlib) (2.9.0.post0)\n",
      "Requirement already satisfied: absl-py>=1.0.0 in /home/ivon/miniconda3/envs/bioenv/lib/python3.10/site-packages (from tensorflow) (2.2.2)\n",
      "Requirement already satisfied: astunparse>=1.6.0 in /home/ivon/miniconda3/envs/bioenv/lib/python3.10/site-packages (from tensorflow) (1.6.3)\n",
      "Requirement already satisfied: flatbuffers>=23.5.26 in /home/ivon/miniconda3/envs/bioenv/lib/python3.10/site-packages (from tensorflow) (25.2.10)\n",
      "Requirement already satisfied: gast!=0.5.0,!=0.5.1,!=0.5.2,>=0.2.1 in /home/ivon/miniconda3/envs/bioenv/lib/python3.10/site-packages (from tensorflow) (0.6.0)\n",
      "Requirement already satisfied: google-pasta>=0.1.1 in /home/ivon/miniconda3/envs/bioenv/lib/python3.10/site-packages (from tensorflow) (0.2.0)\n",
      "Requirement already satisfied: h5py>=2.9.0 in /home/ivon/miniconda3/envs/bioenv/lib/python3.10/site-packages (from tensorflow) (3.13.0)\n",
      "Requirement already satisfied: libclang>=13.0.0 in /home/ivon/miniconda3/envs/bioenv/lib/python3.10/site-packages (from tensorflow) (18.1.1)\n",
      "Requirement already satisfied: ml-dtypes~=0.2.0 in /home/ivon/miniconda3/envs/bioenv/lib/python3.10/site-packages (from tensorflow) (0.2.0)\n",
      "Requirement already satisfied: opt-einsum>=2.3.2 in /home/ivon/miniconda3/envs/bioenv/lib/python3.10/site-packages (from tensorflow) (3.4.0)\n",
      "Requirement already satisfied: protobuf!=4.21.0,!=4.21.1,!=4.21.2,!=4.21.3,!=4.21.4,!=4.21.5,<5.0.0dev,>=3.20.3 in /home/ivon/miniconda3/envs/bioenv/lib/python3.10/site-packages (from tensorflow) (4.25.6)\n",
      "Requirement already satisfied: setuptools in /home/ivon/miniconda3/envs/bioenv/lib/python3.10/site-packages (from tensorflow) (75.8.2)\n",
      "Requirement already satisfied: six>=1.12.0 in /home/ivon/miniconda3/envs/bioenv/lib/python3.10/site-packages (from tensorflow) (1.17.0)\n",
      "Requirement already satisfied: termcolor>=1.1.0 in /home/ivon/miniconda3/envs/bioenv/lib/python3.10/site-packages (from tensorflow) (3.0.1)\n",
      "Requirement already satisfied: typing-extensions>=3.6.6 in /home/ivon/miniconda3/envs/bioenv/lib/python3.10/site-packages (from tensorflow) (4.13.1)\n",
      "Requirement already satisfied: wrapt<1.15,>=1.11.0 in /home/ivon/miniconda3/envs/bioenv/lib/python3.10/site-packages (from tensorflow) (1.14.1)\n",
      "Requirement already satisfied: tensorflow-io-gcs-filesystem>=0.23.1 in /home/ivon/miniconda3/envs/bioenv/lib/python3.10/site-packages (from tensorflow) (0.37.1)\n",
      "Requirement already satisfied: grpcio<2.0,>=1.24.3 in /home/ivon/miniconda3/envs/bioenv/lib/python3.10/site-packages (from tensorflow) (1.71.0)\n",
      "Requirement already satisfied: tensorboard<2.16,>=2.15 in /home/ivon/miniconda3/envs/bioenv/lib/python3.10/site-packages (from tensorflow) (2.15.2)\n",
      "Requirement already satisfied: tensorflow-estimator<2.16,>=2.15.0 in /home/ivon/miniconda3/envs/bioenv/lib/python3.10/site-packages (from tensorflow) (2.15.0)\n",
      "Requirement already satisfied: keras<2.16,>=2.15.0 in /home/ivon/miniconda3/envs/bioenv/lib/python3.10/site-packages (from tensorflow) (2.15.0)\n",
      "Requirement already satisfied: beautifulsoup4 in /home/ivon/miniconda3/envs/bioenv/lib/python3.10/site-packages (from gdown) (4.13.3)\n",
      "Requirement already satisfied: filelock in /home/ivon/miniconda3/envs/bioenv/lib/python3.10/site-packages (from gdown) (3.18.0)\n",
      "Requirement already satisfied: requests[socks] in /home/ivon/miniconda3/envs/bioenv/lib/python3.10/site-packages (from gdown) (2.32.3)\n",
      "Requirement already satisfied: tqdm in /home/ivon/miniconda3/envs/bioenv/lib/python3.10/site-packages (from gdown) (4.67.1)\n",
      "Requirement already satisfied: wheel<1.0,>=0.23.0 in /home/ivon/miniconda3/envs/bioenv/lib/python3.10/site-packages (from astunparse>=1.6.0->tensorflow) (0.45.1)\n",
      "Requirement already satisfied: google-auth<3,>=1.6.3 in /home/ivon/miniconda3/envs/bioenv/lib/python3.10/site-packages (from tensorboard<2.16,>=2.15->tensorflow) (2.38.0)\n",
      "Requirement already satisfied: google-auth-oauthlib<2,>=0.5 in /home/ivon/miniconda3/envs/bioenv/lib/python3.10/site-packages (from tensorboard<2.16,>=2.15->tensorflow) (1.2.1)\n",
      "Requirement already satisfied: markdown>=2.6.8 in /home/ivon/miniconda3/envs/bioenv/lib/python3.10/site-packages (from tensorboard<2.16,>=2.15->tensorflow) (3.7)\n",
      "Requirement already satisfied: tensorboard-data-server<0.8.0,>=0.7.0 in /home/ivon/miniconda3/envs/bioenv/lib/python3.10/site-packages (from tensorboard<2.16,>=2.15->tensorflow) (0.7.2)\n",
      "Requirement already satisfied: werkzeug>=1.0.1 in /home/ivon/miniconda3/envs/bioenv/lib/python3.10/site-packages (from tensorboard<2.16,>=2.15->tensorflow) (3.1.3)\n",
      "Requirement already satisfied: soupsieve>1.2 in /home/ivon/miniconda3/envs/bioenv/lib/python3.10/site-packages (from beautifulsoup4->gdown) (2.5)\n",
      "Requirement already satisfied: charset_normalizer<4,>=2 in /home/ivon/miniconda3/envs/bioenv/lib/python3.10/site-packages (from requests[socks]->gdown) (3.4.1)\n",
      "Requirement already satisfied: idna<4,>=2.5 in /home/ivon/miniconda3/envs/bioenv/lib/python3.10/site-packages (from requests[socks]->gdown) (3.10)\n",
      "Requirement already satisfied: urllib3<3,>=1.21.1 in /home/ivon/miniconda3/envs/bioenv/lib/python3.10/site-packages (from requests[socks]->gdown) (2.3.0)\n",
      "Requirement already satisfied: certifi>=2017.4.17 in /home/ivon/miniconda3/envs/bioenv/lib/python3.10/site-packages (from requests[socks]->gdown) (2025.1.31)\n",
      "Requirement already satisfied: PySocks!=1.5.7,>=1.5.6 in /home/ivon/miniconda3/envs/bioenv/lib/python3.10/site-packages (from requests[socks]->gdown) (1.7.1)\n",
      "Requirement already satisfied: cachetools<6.0,>=2.0.0 in /home/ivon/miniconda3/envs/bioenv/lib/python3.10/site-packages (from google-auth<3,>=1.6.3->tensorboard<2.16,>=2.15->tensorflow) (5.5.2)\n",
      "Requirement already satisfied: pyasn1-modules>=0.2.1 in /home/ivon/miniconda3/envs/bioenv/lib/python3.10/site-packages (from google-auth<3,>=1.6.3->tensorboard<2.16,>=2.15->tensorflow) (0.4.2)\n",
      "Requirement already satisfied: rsa<5,>=3.1.4 in /home/ivon/miniconda3/envs/bioenv/lib/python3.10/site-packages (from google-auth<3,>=1.6.3->tensorboard<2.16,>=2.15->tensorflow) (4.9)\n",
      "Requirement already satisfied: requests-oauthlib>=0.7.0 in /home/ivon/miniconda3/envs/bioenv/lib/python3.10/site-packages (from google-auth-oauthlib<2,>=0.5->tensorboard<2.16,>=2.15->tensorflow) (2.0.0)\n",
      "Requirement already satisfied: MarkupSafe>=2.1.1 in /home/ivon/miniconda3/envs/bioenv/lib/python3.10/site-packages (from werkzeug>=1.0.1->tensorboard<2.16,>=2.15->tensorflow) (3.0.2)\n",
      "Requirement already satisfied: pyasn1<0.7.0,>=0.6.1 in /home/ivon/miniconda3/envs/bioenv/lib/python3.10/site-packages (from pyasn1-modules>=0.2.1->google-auth<3,>=1.6.3->tensorboard<2.16,>=2.15->tensorflow) (0.6.1)\n",
      "Requirement already satisfied: oauthlib>=3.0.0 in /home/ivon/miniconda3/envs/bioenv/lib/python3.10/site-packages (from requests-oauthlib>=0.7.0->google-auth-oauthlib<2,>=0.5->tensorboard<2.16,>=2.15->tensorflow) (3.2.2)\n"
     ]
    }
   ],
   "source": [
    "#!pip install scikit-learn matplotlib tensorflow numpy gdown"
   ]
  },
  {
   "cell_type": "markdown",
   "id": "bea9678f",
   "metadata": {},
   "source": [
    "### Load the necessary libraries\n",
    "\n",
    "The following code imports the packages needed for this CNN."
   ]
  },
  {
   "cell_type": "code",
   "execution_count": 2,
   "id": "14484949",
   "metadata": {},
   "outputs": [
    {
     "name": "stderr",
     "output_type": "stream",
     "text": [
      "2025-04-22 12:40:19.641394: I tensorflow/core/util/port.cc:113] oneDNN custom operations are on. You may see slightly different numerical results due to floating-point round-off errors from different computation orders. To turn them off, set the environment variable `TF_ENABLE_ONEDNN_OPTS=0`.\n",
      "2025-04-22 12:40:19.670811: E external/local_xla/xla/stream_executor/cuda/cuda_dnn.cc:9261] Unable to register cuDNN factory: Attempting to register factory for plugin cuDNN when one has already been registered\n",
      "2025-04-22 12:40:19.670833: E external/local_xla/xla/stream_executor/cuda/cuda_fft.cc:607] Unable to register cuFFT factory: Attempting to register factory for plugin cuFFT when one has already been registered\n",
      "2025-04-22 12:40:19.671427: E external/local_xla/xla/stream_executor/cuda/cuda_blas.cc:1515] Unable to register cuBLAS factory: Attempting to register factory for plugin cuBLAS when one has already been registered\n",
      "2025-04-22 12:40:19.676830: I tensorflow/core/platform/cpu_feature_guard.cc:182] This TensorFlow binary is optimized to use available CPU instructions in performance-critical operations.\n",
      "To enable the following instructions: AVX2 AVX_VNNI FMA, in other operations, rebuild TensorFlow with the appropriate compiler flags.\n",
      "2025-04-22 12:40:20.208895: W tensorflow/compiler/tf2tensorrt/utils/py_utils.cc:38] TF-TRT Warning: Could not find TensorRT\n"
     ]
    },
    {
     "name": "stdout",
     "output_type": "stream",
     "text": [
      "Check GPU runtime type... \n",
      "Change Runtype Type in top menu for GPU acceleration\n",
      " \"Runtime\" -> \"Change Runtime Type\" -> \"GPU\"\n"
     ]
    },
    {
     "name": "stderr",
     "output_type": "stream",
     "text": [
      "2025-04-22 12:40:23.282670: I external/local_xla/xla/stream_executor/cuda/cuda_executor.cc:901] successful NUMA node read from SysFS had negative value (-1), but there must be at least one NUMA node, so returning NUMA node zero. See more at https://github.com/torvalds/linux/blob/v6.0/Documentation/ABI/testing/sysfs-bus-pci#L344-L355\n",
      "2025-04-22 12:40:23.283462: W tensorflow/core/common_runtime/gpu/gpu_device.cc:2256] Cannot dlopen some GPU libraries. Please make sure the missing libraries mentioned above are installed properly if you would like to use GPU. Follow the guide at https://www.tensorflow.org/install/gpu for how to download and setup the required libraries for your platform.\n",
      "Skipping registering GPU devices...\n"
     ]
    }
   ],
   "source": [
    "import tensorflow as tf\n",
    "import torch\n",
    "from torch.utils.data import Dataset\n",
    "import torch\n",
    "import os\n",
    "import glob\n",
    "from Bio.PDB import PDBParser\n",
    "import numpy as np\n",
    "\n",
    "print('Check GPU runtime type... ')\n",
    "if len(tf.config.list_physical_devices('GPU')) == 0:\n",
    "  print('Change Runtype Type in top menu for GPU acceleration')\n",
    "  print(' \"Runtime\" -> \"Change Runtime Type\" -> \"GPU\"')\n",
    "else:\n",
    "  print('OK!')"
   ]
  },
  {
   "cell_type": "markdown",
   "id": "fac9778b",
   "metadata": {},
   "source": [
    "### Prepare the dataset\n",
    "\n",
    "The dataset can be downloaded using the gdown package, this dataset will be used for training, validation and testing. Notice that since we are reusing a pretrained model we must keep the same input size and data pre-processing as in the original model."
   ]
  },
  {
   "cell_type": "code",
   "execution_count": 3,
   "id": "e089433d",
   "metadata": {},
   "outputs": [],
   "source": [
    "#!gdown 1mtU0n_-ejTE9yA_G7iuOQJ4BCs9FVUhs --output dataset.zip\n",
    "#!unzip dataset.zip"
   ]
  },
  {
   "cell_type": "markdown",
   "id": "e8b92196",
   "metadata": {},
   "source": [
    "**collect_pdb_pairs** and **PocketGridDataset** functions are used to prepare the dataset:"
   ]
  },
  {
   "cell_type": "code",
   "execution_count": 4,
   "id": "7bd7f554",
   "metadata": {},
   "outputs": [],
   "source": [
    "\n",
    "def collect_pdb_pairs(dataset_root):\n",
    "    protein_paths = []\n",
    "    pocket_paths = []\n",
    "\n",
    "    for pdb_dir in sorted(os.listdir(dataset_root)):\n",
    "        full_path = os.path.join(dataset_root, pdb_dir)\n",
    "        if not os.path.isdir(full_path):\n",
    "            continue  \n",
    "\n",
    "        protein_pdb = glob.glob(os.path.join(full_path, \"*_protein.pdb\"))\n",
    "        pocket_pdb = glob.glob(os.path.join(full_path, \"*_pocket.pdb\"))\n",
    "\n",
    "        if protein_pdb and pocket_pdb:\n",
    "            protein_paths.append(protein_pdb[0])\n",
    "            pocket_paths.append(pocket_pdb[0])\n",
    "\n",
    "    return protein_paths, pocket_paths\n"
   ]
  },
  {
   "cell_type": "markdown",
   "id": "763a1d26",
   "metadata": {},
   "source": [
    "**PocketGridDataset** uses the following functions (**voxelize_structure** and **generate_label_grid**)"
   ]
  },
  {
   "cell_type": "code",
   "execution_count": 5,
   "id": "41839509",
   "metadata": {},
   "outputs": [],
   "source": [
    "\n",
    "\n",
    "def voxelize_structure(pdb_path, origin=None, grid_size=32, voxel_size=1.0, channels=['C', 'N', 'O', 'S'], return_origin=False):\n",
    "    \"\"\"\n",
    "    Converts a protein PDB file into a 3D voxel grid.\n",
    "\n",
    "    Parameters:\n",
    "        pdb_path (str): path to the protein PDB file.\n",
    "        origin (np.array or None): if None, automatically center the grid around the structure.\n",
    "        grid_size (int): number of voxels along each axis.\n",
    "        voxel_size (float): size of each voxel in Å.\n",
    "        channels (list): Atom types to consider (default: C, N, O, S).\n",
    "        return_origin (bool): if True, also return the grid origin used.\n",
    "\n",
    "    Returns:\n",
    "        grid (np.array): 4D array of shape (channels, D, H, W)\n",
    "        origin (np.array): [only if return_origin=True] the origin used to align the grid.\n",
    "    \"\"\"\n",
    "    parser = PDBParser(QUIET=True)\n",
    "    structure = parser.get_structure(\"structure\", pdb_path)\n",
    "\n",
    "    if origin is None:\n",
    "        coords = np.array([atom.coord for atom in structure.get_atoms()])\n",
    "        origin = coords.mean(axis=0) - (grid_size * voxel_size / 2)\n",
    "\n",
    "    grid = np.zeros((len(channels), grid_size, grid_size, grid_size), dtype=np.float32)\n",
    "\n",
    "    for atom in structure.get_atoms():\n",
    "        atom_type = atom.element.strip()\n",
    "        if atom_type not in channels:\n",
    "            continue\n",
    "        idx = channels.index(atom_type)\n",
    "        coord = np.array(atom.coord)\n",
    "        voxel = ((coord - origin) / voxel_size).astype(int)\n",
    "        if all(0 <= v < grid_size for v in voxel):\n",
    "            grid[idx, voxel[0], voxel[1], voxel[2]] += 1\n",
    "\n",
    "    return (grid, origin) if return_origin else grid"
   ]
  },
  {
   "cell_type": "code",
   "execution_count": 6,
   "id": "6012f068",
   "metadata": {},
   "outputs": [],
   "source": [
    "def generate_label_grid(pocket_pdb_path, origin, grid_size=32, voxel_size=1.0):\n",
    "    from Bio.PDB import PDBParser\n",
    "    parser = PDBParser(QUIET=True)\n",
    "    structure = parser.get_structure(\"pocket\", pocket_pdb_path)\n",
    "    label_grid = np.zeros((grid_size, grid_size, grid_size), dtype=np.uint8)\n",
    "\n",
    "    for atom in structure.get_atoms():\n",
    "        coord = np.array(atom.coord)\n",
    "        voxel = ((coord - origin) / voxel_size).astype(int)\n",
    "        if all(0 <= v < grid_size for v in voxel):\n",
    "            label_grid[voxel[0], voxel[1], voxel[2]] = 1\n",
    "\n",
    "    return label_grid"
   ]
  },
  {
   "cell_type": "code",
   "execution_count": 7,
   "id": "bccfff39",
   "metadata": {},
   "outputs": [],
   "source": [
    "\n",
    "class PocketGridDataset(Dataset):\n",
    "    def __init__(self, protein_paths, pocket_paths, grid_size=32, voxel_size=1.0):\n",
    "        self.protein_paths = protein_paths\n",
    "        self.pocket_paths = pocket_paths\n",
    "        self.grid_size = grid_size\n",
    "        self.voxel_size = voxel_size\n",
    "\n",
    "    def __len__(self):\n",
    "        return len(self.protein_paths)\n",
    "\n",
    "    def __getitem__(self, idx):\n",
    "        protein_pdb = self.protein_paths[idx]\n",
    "        pocket_pdb = self.pocket_paths[idx]\n",
    "\n",
    "        protein_grid, origin = voxelize_structure(protein_pdb, return_origin=True,\n",
    "                                                  grid_size=self.grid_size,\n",
    "                                                  voxel_size=self.voxel_size)\n",
    "        label_grid = generate_label_grid(pocket_pdb, origin,\n",
    "                                         grid_size=self.grid_size,\n",
    "                                         voxel_size=self.voxel_size)\n",
    "\n",
    "        # Convert to tensors\n",
    "        X = torch.tensor(protein_grid, dtype=torch.float32)\n",
    "        Y = torch.tensor(label_grid, dtype=torch.float32).unsqueeze(0)\n",
    "\n",
    "        return X, Y\n"
   ]
  },
  {
   "cell_type": "code",
   "execution_count": 8,
   "id": "1e67e6c6",
   "metadata": {},
   "outputs": [
    {
     "name": "stdout",
     "output_type": "stream",
     "text": [
      "Found 5316 protein-pocket pairs.\n"
     ]
    }
   ],
   "source": [
    "dataset_root = \"refined-set\"  \n",
    "protein_paths, pocket_paths = collect_pdb_pairs(dataset_root)\n",
    "\n",
    "print(f\"Found {len(protein_paths)} protein-pocket pairs.\")\n",
    "\n",
    "dataset = PocketGridDataset(protein_paths, pocket_paths, grid_size=32, voxel_size=1.0)"
   ]
  },
  {
   "cell_type": "code",
   "execution_count": 9,
   "id": "a9ca8968",
   "metadata": {},
   "outputs": [
    {
     "name": "stdout",
     "output_type": "stream",
     "text": [
      "Input shape: torch.Size([4, 32, 32, 32])\n",
      "Label shape: torch.Size([1, 32, 32, 32])\n",
      "Pocket voxels in label: 367.0\n"
     ]
    }
   ],
   "source": [
    "# input size and preprocessing method\n",
    "X, Y = dataset[0] # get the first sample\n",
    "\n",
    "print(\"Input shape:\", X.shape)  # should be (4, 32, 32, 32) - has 4 channels\n",
    "print(\"Label shape:\", Y.shape)  # should be (1, 32, 32, 32)\n",
    "print(\"Pocket voxels in label:\", Y.sum().item())\n"
   ]
  },
  {
   "cell_type": "code",
   "execution_count": 10,
   "id": "cf997b6b",
   "metadata": {},
   "outputs": [
    {
     "data": {
      "text/plain": [
       "'os.makedirs(\"voxels\", exist_ok=True)\\n\\nfor i, (X, Y) in enumerate(dataset):  # original dataset class\\n    np.save(f\"voxels/X_{i}.npy\", X.numpy())\\n    np.save(f\"voxels/Y_{i}.npy\", Y.numpy())'"
      ]
     },
     "execution_count": 10,
     "metadata": {},
     "output_type": "execute_result"
    }
   ],
   "source": [
    "'''os.makedirs(\"voxels\", exist_ok=True)\n",
    "\n",
    "for i, (X, Y) in enumerate(dataset):  # original dataset class\n",
    "    np.save(f\"voxels/X_{i}.npy\", X.numpy())\n",
    "    np.save(f\"voxels/Y_{i}.npy\", Y.numpy())'''"
   ]
  },
  {
   "cell_type": "code",
   "execution_count": 11,
   "id": "7f1c91cd",
   "metadata": {},
   "outputs": [],
   "source": [
    "class VoxelNPYDataset(torch.utils.data.Dataset):\n",
    "    def __init__(self, voxel_dir, total_samples):\n",
    "        self.voxel_dir = voxel_dir\n",
    "        self.total_samples = total_samples\n",
    "\n",
    "    def __len__(self):\n",
    "        return self.total_samples\n",
    "\n",
    "    def __getitem__(self, idx):\n",
    "        X_path = os.path.join(self.voxel_dir, f\"X_{idx}.npy\")\n",
    "        Y_path = os.path.join(self.voxel_dir, f\"Y_{idx}.npy\")\n",
    "        \n",
    "        X = torch.tensor(np.load(X_path)).float()\n",
    "        Y = torch.tensor(np.load(Y_path)).float()\n",
    "        \n",
    "        return X, Y\n"
   ]
  },
  {
   "cell_type": "code",
   "execution_count": 12,
   "id": "cab89b90",
   "metadata": {},
   "outputs": [],
   "source": [
    "dataset = VoxelNPYDataset(\"voxels\", total_samples=5305)"
   ]
  },
  {
   "cell_type": "code",
   "execution_count": 13,
   "id": "12e628b3",
   "metadata": {},
   "outputs": [
    {
     "name": "stdout",
     "output_type": "stream",
     "text": [
      "dataset loaded: <class '__main__.VoxelNPYDataset'>\n"
     ]
    }
   ],
   "source": [
    "print(\"dataset loaded:\", type(dataset))\n"
   ]
  }
 ],
 "metadata": {
  "kernelspec": {
   "display_name": "bioenv",
   "language": "python",
   "name": "python3"
  },
  "language_info": {
   "codemirror_mode": {
    "name": "ipython",
    "version": 3
   },
   "file_extension": ".py",
   "mimetype": "text/x-python",
   "name": "python",
   "nbconvert_exporter": "python",
   "pygments_lexer": "ipython3",
   "version": "3.10.16"
  }
 },
 "nbformat": 4,
 "nbformat_minor": 5
}
